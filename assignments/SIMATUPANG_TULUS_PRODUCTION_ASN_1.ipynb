{
 "cells": [
  {
   "cell_type": "markdown",
   "metadata": {},
   "source": [
    "# Working with parquet files\n",
    "\n",
    "## Objective\n",
    "\n",
    "+ In this assignment, we will use the data downloaded with the module `data_manager` to create features.\n",
    "\n",
    "(11 pts total)\n",
    "\n",
    "## Prerequisites\n",
    "\n",
    "+ This notebook assumes that price data is available to you in the environment variable `PRICE_DATA`. If you have not done so, then execute the notebook `production_2_data_engineering.ipynb` to create this data set.\n"
   ]
  },
  {
   "cell_type": "markdown",
   "metadata": {},
   "source": [
    "+ Load the environment variables using dotenv. (1 pt)"
   ]
  },
  {
   "cell_type": "code",
   "execution_count": 2,
   "metadata": {},
   "outputs": [],
   "source": [
    "# Write your code below.\n",
    "%load_ext dotenv\n",
    "%dotenv ../src/.env\n"
   ]
  },
  {
   "cell_type": "code",
   "execution_count": 3,
   "metadata": {},
   "outputs": [],
   "source": [
    "import dask\n",
    "dask.config.set({'dataframe.query-planning': True})\n",
    "import dask.dataframe as dd"
   ]
  },
  {
   "cell_type": "markdown",
   "metadata": {},
   "source": [
    "+ Load the environment variable `PRICE_DATA`.\n",
    "+ Use [glob](https://docs.python.org/3/library/glob.html) to find the path of all parquet files in the directory `PRICE_DATA`.\n",
    "\n",
    "(1pt)"
   ]
  },
  {
   "cell_type": "code",
   "execution_count": 4,
   "metadata": {},
   "outputs": [
    {
     "name": "stdout",
     "output_type": "stream",
     "text": [
      "../data/prices\\MMM\\MMM_2000.parquet\\part.0.parquet\n",
      "../data/prices\\MMM\\MMM_2001.parquet\\part.0.parquet\n",
      "../data/prices\\MMM\\MMM_2002.parquet\\part.0.parquet\n",
      "../data/prices\\MMM\\MMM_2003.parquet\\part.0.parquet\n",
      "../data/prices\\MMM\\MMM_2004.parquet\\part.0.parquet\n",
      "../data/prices\\MMM\\MMM_2005.parquet\\part.0.parquet\n",
      "../data/prices\\MMM\\MMM_2006.parquet\\part.0.parquet\n",
      "../data/prices\\MMM\\MMM_2007.parquet\\part.0.parquet\n",
      "../data/prices\\MMM\\MMM_2008.parquet\\part.0.parquet\n",
      "../data/prices\\MMM\\MMM_2009.parquet\\part.0.parquet\n",
      "../data/prices\\MMM\\MMM_2010.parquet\\part.0.parquet\n",
      "../data/prices\\MMM\\MMM_2011.parquet\\part.0.parquet\n",
      "../data/prices\\MMM\\MMM_2012.parquet\\part.0.parquet\n"
     ]
    }
   ],
   "source": [
    "import os\n",
    "from glob import glob\n",
    "\n",
    "# Write your code below.\n",
    "PRICE_DATA = os.getenv(\"PRICE_DATA\")\n",
    "parquet_files = glob(PRICE_DATA+\"/**/*.parquet/*.parquet\")\n",
    "dd_px = dd.read_parquet(parquet_files).set_index(\"ticker\")\n",
    "\n",
    "\n",
    "for file_path in parquet_files:\n",
    "    print(file_path)"
   ]
  },
  {
   "cell_type": "markdown",
   "metadata": {},
   "source": [
    "For each ticker and using Dask, do the following:\n",
    "\n",
    "+ Add lags for variables Close and Adj_Close.\n",
    "+ Add returns based on Adjusted Close:\n",
    "    \n",
    "    - `returns`: (Adj Close / Adj Close_lag) - 1\n",
    "\n",
    "+ Add the following range: \n",
    "\n",
    "    - `hi_lo_range`: this is the day's High minus Low.\n",
    "\n",
    "+ Assign the result to `dd_feat`.\n",
    "\n",
    "(4 pt)"
   ]
  },
  {
   "cell_type": "code",
   "execution_count": 5,
   "metadata": {},
   "outputs": [
    {
     "name": "stderr",
     "output_type": "stream",
     "text": [
      "C:\\Users\\tdsim\\AppData\\Local\\Temp\\ipykernel_13860\\1218760955.py:4: UserWarning: `meta` is not specified, inferred from partial data. Please provide `meta` if the result is unexpected.\n",
      "  Before: .apply(func)\n",
      "  After:  .apply(func, meta={'x': 'f8', 'y': 'f8'}) for dataframe result\n",
      "  or:     .apply(func, meta=('x', 'f8'))            for series result\n",
      "  dd_rets = (dd_px.groupby('ticker', group_keys=False).apply(\n"
     ]
    }
   ],
   "source": [
    "# Write your code below.\n",
    "\n",
    "import numpy as np\n",
    "dd_rets = (dd_px.groupby('ticker', group_keys=False).apply(\n",
    "    lambda x: x.assign(Close_lag_1 = x['Close'].shift(1),\n",
    "                       Adj_Close_lag_1 =x['Adj Close'].shift(1))\n",
    ").assign(\n",
    "    returns = lambda x: x['Adj Close']/x['Adj_Close_lag_1'] - 1\n",
    ").assign(\n",
    "    hi_lo_range = lambda x: (x['High'] - x['Low'])\n",
    "))"
   ]
  },
  {
   "cell_type": "code",
   "execution_count": 6,
   "metadata": {},
   "outputs": [
    {
     "name": "stdout",
     "output_type": "stream",
     "text": [
      "Index(['Date', 'Open', 'High', 'Low', 'Close', 'Adj Close', 'Volume', 'sector',\n",
      "       'subsector', 'year', 'Close_lag_1', 'Adj_Close_lag_1', 'returns',\n",
      "       'hi_lo_range'],\n",
      "      dtype='object')\n"
     ]
    }
   ],
   "source": [
    "print(dd_rets.columns)"
   ]
  },
  {
   "cell_type": "code",
   "execution_count": 7,
   "metadata": {},
   "outputs": [
    {
     "data": {
      "text/plain": [
       "<dask_expr.expr.DataFrame: expr=Assign(frame=Assign(frame=Assign(frame=Assign(frame=Assign(frame=Assign(frame=GroupByApply(frame=ReadParquet(79bbe12), observed=False, group_keys=False, func=<function <lambda> at 0x0000013670D9AFC0>, meta=_NoDefault.no_default, args=(), kwargs={})))))))>"
      ]
     },
     "execution_count": 7,
     "metadata": {},
     "output_type": "execute_result"
    }
   ],
   "source": [
    "dd_rets"
   ]
  },
  {
   "cell_type": "markdown",
   "metadata": {},
   "source": [
    "+ Convert the Dask data frame to a pandas data frame. \n",
    "+ Add a rolling average return calculation with a window of 10 days.\n",
    "+ *Tip*: Consider using `.rolling(10).mean()`.\n",
    "\n",
    "(3 pt)"
   ]
  },
  {
   "cell_type": "code",
   "execution_count": 16,
   "metadata": {},
   "outputs": [
    {
     "name": "stdout",
     "output_type": "stream",
     "text": [
      "(Timestamp('2000-01-03 00:00:00'), Timestamp('2000-09-22 00:27:41.538461568'), Timestamp('2001-07-16 01:50:46.153846144'), Timestamp('2002-05-17 14:27:21.938658432'), Timestamp('2003-03-31 12:27:49.940266880'), Timestamp('2004-03-15 04:19:16.004001536'), Timestamp('2005-06-04 18:14:47.322534912'), Timestamp('2006-08-23 19:47:16.211342080'), Timestamp('2007-09-15 11:06:33.461851904'), Timestamp('2008-08-09 22:45:25.259837696'), Timestamp('2009-09-06 02:09:36.940674816'), Timestamp('2010-08-14 04:31:29.748885760'), Timestamp('2011-08-05 06:37:52.097180160'), Timestamp('2012-12-31 00:00:00'))\n"
     ]
    }
   ],
   "source": [
    "print(dd_rets.divisions)"
   ]
  },
  {
   "cell_type": "code",
   "execution_count": 21,
   "metadata": {},
   "outputs": [
    {
     "data": {
      "text/html": [
       "<div>\n",
       "<style scoped>\n",
       "    .dataframe tbody tr th:only-of-type {\n",
       "        vertical-align: middle;\n",
       "    }\n",
       "\n",
       "    .dataframe tbody tr th {\n",
       "        vertical-align: top;\n",
       "    }\n",
       "\n",
       "    .dataframe thead th {\n",
       "        text-align: right;\n",
       "    }\n",
       "</style>\n",
       "<table border=\"1\" class=\"dataframe\">\n",
       "  <thead>\n",
       "    <tr style=\"text-align: right;\">\n",
       "      <th></th>\n",
       "      <th>Open</th>\n",
       "      <th>High</th>\n",
       "      <th>Low</th>\n",
       "      <th>Close</th>\n",
       "      <th>Adj Close</th>\n",
       "      <th>Volume</th>\n",
       "      <th>sector</th>\n",
       "      <th>subsector</th>\n",
       "      <th>year</th>\n",
       "      <th>Close_lag_1</th>\n",
       "      <th>Adj_Close_lag_1</th>\n",
       "      <th>returns</th>\n",
       "      <th>hi_lo_range</th>\n",
       "      <th>rolling_avg_return</th>\n",
       "    </tr>\n",
       "    <tr>\n",
       "      <th>Date</th>\n",
       "      <th></th>\n",
       "      <th></th>\n",
       "      <th></th>\n",
       "      <th></th>\n",
       "      <th></th>\n",
       "      <th></th>\n",
       "      <th></th>\n",
       "      <th></th>\n",
       "      <th></th>\n",
       "      <th></th>\n",
       "      <th></th>\n",
       "      <th></th>\n",
       "      <th></th>\n",
       "      <th></th>\n",
       "    </tr>\n",
       "  </thead>\n",
       "  <tbody>\n",
       "    <tr>\n",
       "      <th>2000-01-03</th>\n",
       "      <td>48.031250</td>\n",
       "      <td>48.250000</td>\n",
       "      <td>47.031250</td>\n",
       "      <td>47.187500</td>\n",
       "      <td>23.990576</td>\n",
       "      <td>2173400</td>\n",
       "      <td>Industrials</td>\n",
       "      <td>Industrial Conglomerates</td>\n",
       "      <td>2000</td>\n",
       "      <td>77.930000</td>\n",
       "      <td>45.981716</td>\n",
       "      <td>-0.478258</td>\n",
       "      <td>1.218750</td>\n",
       "      <td>NaN</td>\n",
       "    </tr>\n",
       "    <tr>\n",
       "      <th>2000-02-25</th>\n",
       "      <td>44.062500</td>\n",
       "      <td>44.656250</td>\n",
       "      <td>42.593750</td>\n",
       "      <td>42.875000</td>\n",
       "      <td>21.939238</td>\n",
       "      <td>3627200</td>\n",
       "      <td>Industrials</td>\n",
       "      <td>Industrial Conglomerates</td>\n",
       "      <td>2000</td>\n",
       "      <td>45.500000</td>\n",
       "      <td>23.282455</td>\n",
       "      <td>-0.057692</td>\n",
       "      <td>2.062500</td>\n",
       "      <td>NaN</td>\n",
       "    </tr>\n",
       "    <tr>\n",
       "      <th>2000-04-26</th>\n",
       "      <td>46.750000</td>\n",
       "      <td>46.750000</td>\n",
       "      <td>43.687500</td>\n",
       "      <td>44.468750</td>\n",
       "      <td>22.754761</td>\n",
       "      <td>6956600</td>\n",
       "      <td>Industrials</td>\n",
       "      <td>Industrial Conglomerates</td>\n",
       "      <td>2000</td>\n",
       "      <td>46.906250</td>\n",
       "      <td>24.002037</td>\n",
       "      <td>-0.051965</td>\n",
       "      <td>3.062500</td>\n",
       "      <td>NaN</td>\n",
       "    </tr>\n",
       "    <tr>\n",
       "      <th>2000-03-07</th>\n",
       "      <td>44.125000</td>\n",
       "      <td>44.437500</td>\n",
       "      <td>41.000000</td>\n",
       "      <td>41.375000</td>\n",
       "      <td>21.171682</td>\n",
       "      <td>5195600</td>\n",
       "      <td>Industrials</td>\n",
       "      <td>Industrial Conglomerates</td>\n",
       "      <td>2000</td>\n",
       "      <td>43.625000</td>\n",
       "      <td>22.323019</td>\n",
       "      <td>-0.051576</td>\n",
       "      <td>3.437500</td>\n",
       "      <td>NaN</td>\n",
       "    </tr>\n",
       "    <tr>\n",
       "      <th>2000-03-22</th>\n",
       "      <td>44.500000</td>\n",
       "      <td>44.687500</td>\n",
       "      <td>42.500000</td>\n",
       "      <td>43.000000</td>\n",
       "      <td>22.003197</td>\n",
       "      <td>4404800</td>\n",
       "      <td>Industrials</td>\n",
       "      <td>Industrial Conglomerates</td>\n",
       "      <td>2000</td>\n",
       "      <td>45.218750</td>\n",
       "      <td>23.138535</td>\n",
       "      <td>-0.049067</td>\n",
       "      <td>2.187500</td>\n",
       "      <td>NaN</td>\n",
       "    </tr>\n",
       "    <tr>\n",
       "      <th>...</th>\n",
       "      <td>...</td>\n",
       "      <td>...</td>\n",
       "      <td>...</td>\n",
       "      <td>...</td>\n",
       "      <td>...</td>\n",
       "      <td>...</td>\n",
       "      <td>...</td>\n",
       "      <td>...</td>\n",
       "      <td>...</td>\n",
       "      <td>...</td>\n",
       "      <td>...</td>\n",
       "      <td>...</td>\n",
       "      <td>...</td>\n",
       "      <td>...</td>\n",
       "    </tr>\n",
       "    <tr>\n",
       "      <th>2011-10-10</th>\n",
       "      <td>75.120003</td>\n",
       "      <td>76.739998</td>\n",
       "      <td>75.089996</td>\n",
       "      <td>76.720001</td>\n",
       "      <td>51.462395</td>\n",
       "      <td>3855600</td>\n",
       "      <td>Industrials</td>\n",
       "      <td>Industrial Conglomerates</td>\n",
       "      <td>2011</td>\n",
       "      <td>73.820000</td>\n",
       "      <td>49.517147</td>\n",
       "      <td>0.039284</td>\n",
       "      <td>1.650002</td>\n",
       "      <td>0.031962</td>\n",
       "    </tr>\n",
       "    <tr>\n",
       "      <th>2011-11-30</th>\n",
       "      <td>79.709999</td>\n",
       "      <td>81.050003</td>\n",
       "      <td>79.430000</td>\n",
       "      <td>81.040001</td>\n",
       "      <td>54.744278</td>\n",
       "      <td>8721000</td>\n",
       "      <td>Industrials</td>\n",
       "      <td>Industrial Conglomerates</td>\n",
       "      <td>2011</td>\n",
       "      <td>77.239998</td>\n",
       "      <td>52.177303</td>\n",
       "      <td>0.049197</td>\n",
       "      <td>1.620003</td>\n",
       "      <td>0.034270</td>\n",
       "    </tr>\n",
       "    <tr>\n",
       "      <th>2011-08-09</th>\n",
       "      <td>80.230003</td>\n",
       "      <td>82.860001</td>\n",
       "      <td>78.059998</td>\n",
       "      <td>82.690002</td>\n",
       "      <td>55.095543</td>\n",
       "      <td>12008400</td>\n",
       "      <td>Industrials</td>\n",
       "      <td>Industrial Conglomerates</td>\n",
       "      <td>2011</td>\n",
       "      <td>78.589996</td>\n",
       "      <td>52.363750</td>\n",
       "      <td>0.052170</td>\n",
       "      <td>4.800003</td>\n",
       "      <td>0.036801</td>\n",
       "    </tr>\n",
       "    <tr>\n",
       "      <th>2011-10-27</th>\n",
       "      <td>79.510002</td>\n",
       "      <td>82.330002</td>\n",
       "      <td>78.919998</td>\n",
       "      <td>81.410004</td>\n",
       "      <td>54.608379</td>\n",
       "      <td>7413700</td>\n",
       "      <td>Industrials</td>\n",
       "      <td>Industrial Conglomerates</td>\n",
       "      <td>2011</td>\n",
       "      <td>77.019997</td>\n",
       "      <td>51.663635</td>\n",
       "      <td>0.056998</td>\n",
       "      <td>3.410004</td>\n",
       "      <td>0.039702</td>\n",
       "    </tr>\n",
       "    <tr>\n",
       "      <th>2012-01-03</th>\n",
       "      <td>83.760002</td>\n",
       "      <td>84.440002</td>\n",
       "      <td>83.360001</td>\n",
       "      <td>83.489998</td>\n",
       "      <td>56.399281</td>\n",
       "      <td>3380100</td>\n",
       "      <td>Industrials</td>\n",
       "      <td>Industrial Conglomerates</td>\n",
       "      <td>2012</td>\n",
       "      <td>57.540001</td>\n",
       "      <td>35.729740</td>\n",
       "      <td>0.578497</td>\n",
       "      <td>1.080002</td>\n",
       "      <td>0.047539</td>\n",
       "    </tr>\n",
       "  </tbody>\n",
       "</table>\n",
       "<p>3269 rows × 14 columns</p>\n",
       "</div>"
      ],
      "text/plain": [
       "                 Open       High        Low      Close  Adj Close    Volume  \\\n",
       "Date                                                                          \n",
       "2000-01-03  48.031250  48.250000  47.031250  47.187500  23.990576   2173400   \n",
       "2000-02-25  44.062500  44.656250  42.593750  42.875000  21.939238   3627200   \n",
       "2000-04-26  46.750000  46.750000  43.687500  44.468750  22.754761   6956600   \n",
       "2000-03-07  44.125000  44.437500  41.000000  41.375000  21.171682   5195600   \n",
       "2000-03-22  44.500000  44.687500  42.500000  43.000000  22.003197   4404800   \n",
       "...               ...        ...        ...        ...        ...       ...   \n",
       "2011-10-10  75.120003  76.739998  75.089996  76.720001  51.462395   3855600   \n",
       "2011-11-30  79.709999  81.050003  79.430000  81.040001  54.744278   8721000   \n",
       "2011-08-09  80.230003  82.860001  78.059998  82.690002  55.095543  12008400   \n",
       "2011-10-27  79.510002  82.330002  78.919998  81.410004  54.608379   7413700   \n",
       "2012-01-03  83.760002  84.440002  83.360001  83.489998  56.399281   3380100   \n",
       "\n",
       "                 sector                 subsector  year  Close_lag_1  \\\n",
       "Date                                                                   \n",
       "2000-01-03  Industrials  Industrial Conglomerates  2000    77.930000   \n",
       "2000-02-25  Industrials  Industrial Conglomerates  2000    45.500000   \n",
       "2000-04-26  Industrials  Industrial Conglomerates  2000    46.906250   \n",
       "2000-03-07  Industrials  Industrial Conglomerates  2000    43.625000   \n",
       "2000-03-22  Industrials  Industrial Conglomerates  2000    45.218750   \n",
       "...                 ...                       ...   ...          ...   \n",
       "2011-10-10  Industrials  Industrial Conglomerates  2011    73.820000   \n",
       "2011-11-30  Industrials  Industrial Conglomerates  2011    77.239998   \n",
       "2011-08-09  Industrials  Industrial Conglomerates  2011    78.589996   \n",
       "2011-10-27  Industrials  Industrial Conglomerates  2011    77.019997   \n",
       "2012-01-03  Industrials  Industrial Conglomerates  2012    57.540001   \n",
       "\n",
       "            Adj_Close_lag_1   returns  hi_lo_range  rolling_avg_return  \n",
       "Date                                                                    \n",
       "2000-01-03        45.981716 -0.478258     1.218750                 NaN  \n",
       "2000-02-25        23.282455 -0.057692     2.062500                 NaN  \n",
       "2000-04-26        24.002037 -0.051965     3.062500                 NaN  \n",
       "2000-03-07        22.323019 -0.051576     3.437500                 NaN  \n",
       "2000-03-22        23.138535 -0.049067     2.187500                 NaN  \n",
       "...                     ...       ...          ...                 ...  \n",
       "2011-10-10        49.517147  0.039284     1.650002            0.031962  \n",
       "2011-11-30        52.177303  0.049197     1.620003            0.034270  \n",
       "2011-08-09        52.363750  0.052170     4.800003            0.036801  \n",
       "2011-10-27        51.663635  0.056998     3.410004            0.039702  \n",
       "2012-01-03        35.729740  0.578497     1.080002            0.047539  \n",
       "\n",
       "[3269 rows x 14 columns]"
      ]
     },
     "execution_count": 21,
     "metadata": {},
     "output_type": "execute_result"
    }
   ],
   "source": [
    "# Write your code below.\n",
    "dd_rets = dd_rets.map_partitions(lambda df: df.sort_values('returns'))\n",
    "dd_rets['rolling_avg_return'] = dd_rets['returns'].rolling(window=10).mean().compute()\n",
    "dd_rets.compute()\n"
   ]
  },
  {
   "cell_type": "markdown",
   "metadata": {},
   "source": [
    "Please comment:\n",
    "\n",
    "+ Was it necessary to convert to pandas to calculate the moving average return? \n",
    "**No, it wasn't. You can actually calculate the moving average return from Dask but you just need to compute it since it's a lazy execution.**\n",
    "+ Would it have been better to do it in Dask? Why? \n",
    "**If you have a smaller memory, then yes, Dask might be a better option. However, if you have a large memory, pandas is better option since it can run faster.**\n",
    "\n",
    "(1 pt)"
   ]
  },
  {
   "cell_type": "markdown",
   "metadata": {},
   "source": []
  }
 ],
 "metadata": {
  "kernelspec": {
   "display_name": "env",
   "language": "python",
   "name": "python3"
  },
  "language_info": {
   "codemirror_mode": {
    "name": "ipython",
    "version": 3
   },
   "file_extension": ".py",
   "mimetype": "text/x-python",
   "name": "python",
   "nbconvert_exporter": "python",
   "pygments_lexer": "ipython3",
   "version": "3.12.1"
  }
 },
 "nbformat": 4,
 "nbformat_minor": 2
}
